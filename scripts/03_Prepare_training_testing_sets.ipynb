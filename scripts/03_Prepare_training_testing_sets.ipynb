{
 "cells": [
  {
   "cell_type": "code",
   "execution_count": null,
   "metadata": {},
   "outputs": [],
   "source": [
    "### concats training brain data and brain labels\n",
    "### gets rid of voxels that have missing label values\n",
    "### normalizes training data to get mean and std files\n",
    "### outputs: concated data/labels, 80/20 train/validate partitions\n",
    "### saved in training_inputs\n",
    "\n",
    "### outputs: normalized testing data\n",
    "### saved in testing_inputs"
   ]
  },
  {
   "cell_type": "code",
   "execution_count": 1,
   "metadata": {},
   "outputs": [],
   "source": [
    "import numpy as np"
   ]
  },
  {
   "cell_type": "code",
   "execution_count": null,
   "metadata": {},
   "outputs": [],
   "source": [
    "# available data: C03, C04, C05, C06, C07, C08, P01, P02\n",
    "# TRAINING: C03 - C06, P01 (5 brains)\n",
    "# TESTING: C07, C08, P02 (3 brains)"
   ]
  },
  {
   "cell_type": "markdown",
   "metadata": {},
   "source": [
    "### load TRAINING/VALIDATION data "
   ]
  },
  {
   "cell_type": "code",
   "execution_count": 2,
   "metadata": {},
   "outputs": [],
   "source": [
    "#load preprocessed data for TRAINING\n",
    "\n",
    "C03_data = np.load('../preprocessed_data/C03_preprocessed_data.npy')\n",
    "C04_data = np.load('../preprocessed_data/C04_preprocessed_data.npy')\n",
    "C05_data = np.load('../preprocessed_data/C05_preprocessed_data.npy')\n",
    "C06_data = np.load('../preprocessed_data/C06_preprocessed_data.npy')\n",
    "P01_data = np.load('../preprocessed_data/P01_preprocessed_data.npy')"
   ]
  },
  {
   "cell_type": "code",
   "execution_count": 3,
   "metadata": {},
   "outputs": [],
   "source": [
    "#load preprocessed labels for TRAINING\n",
    "\n",
    "C03_labels = np.load('../preprocessed_data/C03_labels.npy')\n",
    "C04_labels = np.load('../preprocessed_data/C04_labels.npy')\n",
    "C05_labels = np.load('../preprocessed_data/C05_labels.npy')\n",
    "C06_labels = np.load('../preprocessed_data/C06_labels.npy')\n",
    "P01_labels = np.load('../preprocessed_data/P01_labels.npy')"
   ]
  },
  {
   "cell_type": "code",
   "execution_count": 4,
   "metadata": {},
   "outputs": [
    {
     "data": {
      "text/plain": [
       "(3046406, 32)"
      ]
     },
     "execution_count": 4,
     "metadata": {},
     "output_type": "execute_result"
    }
   ],
   "source": [
    "orig_data = np.concatenate((C03_data, C04_data, C05_data, C06_data, P01_data),axis=0)\n",
    "orig_data.shape"
   ]
  },
  {
   "cell_type": "code",
   "execution_count": 5,
   "metadata": {},
   "outputs": [
    {
     "data": {
      "text/plain": [
       "(3046406, 40)"
      ]
     },
     "execution_count": 5,
     "metadata": {},
     "output_type": "execute_result"
    }
   ],
   "source": [
    "orig_labels = np.concatenate((C03_labels, C04_labels, C05_labels, C06_labels, P01_labels),axis=0)\n",
    "orig_labels.shape"
   ]
  },
  {
   "cell_type": "code",
   "execution_count": 6,
   "metadata": {},
   "outputs": [
    {
     "data": {
      "text/plain": [
       "array([[0.01878405, 0.02175641, 0.02371561, ..., 0.09441077, 0.09964417,\n",
       "        0.10438113],\n",
       "       [0.        , 0.        , 0.        , ..., 0.04352095, 0.04483591,\n",
       "        0.0460328 ],\n",
       "       [0.        , 0.        , 0.        , ..., 0.04056251, 0.04269485,\n",
       "        0.04465765],\n",
       "       ...,\n",
       "       [0.12500669, 0.09725073, 0.05055761, ..., 0.01146965, 0.00939775,\n",
       "        0.0074357 ],\n",
       "       [0.14649108, 0.        , 0.        , ..., 0.        , 0.        ,\n",
       "        0.07779288],\n",
       "       [0.15930531, 0.09019263, 0.0053288 , ..., 0.02778104, 0.0487898 ,\n",
       "        0.06824179]])"
      ]
     },
     "execution_count": 6,
     "metadata": {},
     "output_type": "execute_result"
    }
   ],
   "source": [
    "orig_labels"
   ]
  },
  {
   "cell_type": "code",
   "execution_count": 7,
   "metadata": {},
   "outputs": [],
   "source": [
    "def unison_shuffled_copies(a, b):\n",
    "    assert len(a) == len(b)\n",
    "    p = np.random.permutation(len(a))\n",
    "    return a[p], b[p]"
   ]
  },
  {
   "cell_type": "code",
   "execution_count": 8,
   "metadata": {},
   "outputs": [],
   "source": [
    "data, labels = unison_shuffled_copies(orig_data, orig_labels)"
   ]
  },
  {
   "cell_type": "code",
   "execution_count": 9,
   "metadata": {},
   "outputs": [
    {
     "name": "stdout",
     "output_type": "stream",
     "text": [
      "(3046406, 32)\n",
      "(3046406, 40)\n"
     ]
    }
   ],
   "source": [
    "print(data.shape)\n",
    "print(labels.shape)"
   ]
  },
  {
   "cell_type": "code",
   "execution_count": 10,
   "metadata": {},
   "outputs": [],
   "source": [
    "# if first feature/column of data is 0, change to nan\n",
    "data[data[:,0]==0]='nan'"
   ]
  },
  {
   "cell_type": "code",
   "execution_count": 23,
   "metadata": {},
   "outputs": [],
   "source": [
    "#data = data[~np.isnan(data).any(axis=1)]"
   ]
  },
  {
   "cell_type": "code",
   "execution_count": 11,
   "metadata": {},
   "outputs": [
    {
     "data": {
      "text/plain": [
       "array([[ 921.,  835.,  686., ...,   19.,   16.,   13.],\n",
       "       [1101.,  973.,  802., ...,   40.,   27.,   30.],\n",
       "       [1000.,  850.,  734., ...,   11.,   13.,   15.],\n",
       "       ...,\n",
       "       [1011.,  868.,  772., ...,   44.,   57.,   49.],\n",
       "       [ 677.,  651.,  531., ...,   22.,   26.,    4.],\n",
       "       [1133.,  939.,  797., ...,   15.,    3.,   20.]])"
      ]
     },
     "execution_count": 11,
     "metadata": {},
     "output_type": "execute_result"
    }
   ],
   "source": [
    "data"
   ]
  },
  {
   "cell_type": "code",
   "execution_count": 12,
   "metadata": {},
   "outputs": [
    {
     "data": {
      "text/plain": [
       "(3046406, 32)"
      ]
     },
     "execution_count": 12,
     "metadata": {},
     "output_type": "execute_result"
    }
   ],
   "source": [
    "data.shape"
   ]
  },
  {
   "cell_type": "code",
   "execution_count": 13,
   "metadata": {},
   "outputs": [],
   "source": [
    "# mask of nans in first feature\n",
    "# if first feature is 0, then get rid of that voxel/row\n",
    "mask = ~np.isnan(data).any(axis=1)\n",
    "\n",
    "# kevin did this to: data = data[~np.isnan(data).any(axis=1)]\n",
    "# we have 40 labels though"
   ]
  },
  {
   "cell_type": "code",
   "execution_count": 14,
   "metadata": {},
   "outputs": [],
   "source": [
    "masked_labels = labels[mask]"
   ]
  },
  {
   "cell_type": "code",
   "execution_count": 15,
   "metadata": {},
   "outputs": [],
   "source": [
    "masked_data = data[mask]"
   ]
  },
  {
   "cell_type": "code",
   "execution_count": 16,
   "metadata": {},
   "outputs": [
    {
     "data": {
      "text/plain": [
       "(3046406, 40)"
      ]
     },
     "execution_count": 16,
     "metadata": {},
     "output_type": "execute_result"
    }
   ],
   "source": [
    "masked_labels.shape"
   ]
  },
  {
   "cell_type": "code",
   "execution_count": 17,
   "metadata": {},
   "outputs": [
    {
     "data": {
      "text/plain": [
       "(3046406, 32)"
      ]
     },
     "execution_count": 17,
     "metadata": {},
     "output_type": "execute_result"
    }
   ],
   "source": [
    "masked_data.shape"
   ]
  },
  {
   "cell_type": "code",
   "execution_count": 18,
   "metadata": {},
   "outputs": [
    {
     "data": {
      "text/plain": [
       "array([[ 921.,  835.,  686., ...,   19.,   16.,   13.],\n",
       "       [1101.,  973.,  802., ...,   40.,   27.,   30.],\n",
       "       [1000.,  850.,  734., ...,   11.,   13.,   15.],\n",
       "       ...,\n",
       "       [1011.,  868.,  772., ...,   44.,   57.,   49.],\n",
       "       [ 677.,  651.,  531., ...,   22.,   26.,    4.],\n",
       "       [1133.,  939.,  797., ...,   15.,    3.,   20.]])"
      ]
     },
     "execution_count": 18,
     "metadata": {},
     "output_type": "execute_result"
    }
   ],
   "source": [
    "masked_data"
   ]
  },
  {
   "cell_type": "markdown",
   "metadata": {},
   "source": [
    "### normalizing data "
   ]
  },
  {
   "cell_type": "code",
   "execution_count": 19,
   "metadata": {},
   "outputs": [],
   "source": [
    "# mean across the T2 times (so 32 of them, arr is (32, 1))\n",
    "\n",
    "mean = masked_data.mean(axis=0)\n",
    "masked_data = masked_data - mean\n",
    "std = masked_data.std(axis=0)\n",
    "masked_data = masked_data/std"
   ]
  },
  {
   "cell_type": "code",
   "execution_count": 20,
   "metadata": {},
   "outputs": [],
   "source": [
    "# save mean and std\n",
    "np.save('../training_inputs/mean_train', mean)\n",
    "np.save('../training_inputs/std_train', std)"
   ]
  },
  {
   "cell_type": "code",
   "execution_count": 21,
   "metadata": {},
   "outputs": [],
   "source": [
    "# save shuffled and normalized data, and shuffled labels\n",
    "np.save('../training_inputs/train_data_all', masked_data)\n",
    "np.save('../training_inputs/train_labels_all', masked_labels)"
   ]
  },
  {
   "cell_type": "code",
   "execution_count": 22,
   "metadata": {},
   "outputs": [
    {
     "data": {
      "text/plain": [
       "(32,)"
      ]
     },
     "execution_count": 22,
     "metadata": {},
     "output_type": "execute_result"
    }
   ],
   "source": [
    "mean.shape"
   ]
  },
  {
   "cell_type": "code",
   "execution_count": 23,
   "metadata": {},
   "outputs": [
    {
     "data": {
      "text/plain": [
       "(3046406, 32)"
      ]
     },
     "execution_count": 23,
     "metadata": {},
     "output_type": "execute_result"
    }
   ],
   "source": [
    "masked_data.shape"
   ]
  },
  {
   "cell_type": "code",
   "execution_count": 24,
   "metadata": {},
   "outputs": [
    {
     "data": {
      "text/plain": [
       "array([ 1.7773128 ,  1.88286167,  1.74715168,  1.91215624,  1.39430171,\n",
       "        1.70771805,  1.07902093,  1.44642893,  0.53293439,  0.95277605,\n",
       "        0.13071348,  0.50923576,  0.19361348,  0.11258662, -0.12936919,\n",
       "       -0.11700127, -0.21111441, -0.11435187, -0.09120936, -0.24430906,\n",
       "       -0.13137178, -0.23654159, -0.24214025, -0.35084653, -0.2108348 ,\n",
       "       -0.25541331, -0.23825838, -0.29992205, -0.27323009, -0.27686426,\n",
       "       -0.32270468, -0.31159563])"
      ]
     },
     "execution_count": 24,
     "metadata": {},
     "output_type": "execute_result"
    }
   ],
   "source": [
    "masked_data[10]"
   ]
  },
  {
   "cell_type": "code",
   "execution_count": null,
   "metadata": {},
   "outputs": [],
   "source": []
  },
  {
   "cell_type": "code",
   "execution_count": null,
   "metadata": {},
   "outputs": [],
   "source": []
  },
  {
   "cell_type": "markdown",
   "metadata": {},
   "source": [
    "### training data partition"
   ]
  },
  {
   "cell_type": "code",
   "execution_count": 25,
   "metadata": {},
   "outputs": [],
   "source": [
    "# use 20% for validation. 35333*0.2 = 7066.6 so 7000\n",
    "\n",
    "x_val = masked_data[:7000,:]\n",
    "y_val = masked_labels[:7000, :]\n",
    "\n",
    "partial_x_train = masked_data[7000:, :]\n",
    "partial_y_train = masked_labels[7000:, :]"
   ]
  },
  {
   "cell_type": "code",
   "execution_count": 26,
   "metadata": {},
   "outputs": [],
   "source": [
    "# save partitions\n",
    "np.save('../training_inputs/partitions/train_data_80', partial_x_train)\n",
    "np.save('../training_inputs/partitions/train_labels_80', partial_y_train)\n",
    "\n",
    "np.save('../training_inputs/partitions/train_data_20', x_val)\n",
    "np.save('../training_inputs/partitions/train_labels_20', y_val)"
   ]
  },
  {
   "cell_type": "code",
   "execution_count": 27,
   "metadata": {},
   "outputs": [
    {
     "data": {
      "text/plain": [
       "3039406"
      ]
     },
     "execution_count": 27,
     "metadata": {},
     "output_type": "execute_result"
    }
   ],
   "source": [
    "len(partial_x_train)"
   ]
  },
  {
   "cell_type": "code",
   "execution_count": 28,
   "metadata": {
    "scrolled": true
   },
   "outputs": [
    {
     "data": {
      "text/plain": [
       "array([[ 1.69361789,  1.60547707,  1.6020303 , ..., -0.57172773,\n",
       "        -0.45411436, -0.56492388],\n",
       "       [-0.0111154 ,  0.1797202 ,  0.17720223, ..., -0.24410165,\n",
       "        -0.27890145, -0.35565271],\n",
       "       [ 1.01084357,  0.97858786,  0.96877338, ..., -0.61541121,\n",
       "        -0.60742564, -0.71912369],\n",
       "       ...,\n",
       "       [ 0.62760896,  0.46820019,  0.75109131, ..., -0.36423122,\n",
       "        -0.191295  , -0.26753854],\n",
       "       [-0.84365957, -0.73564899, -0.83864742, ..., -0.60449034,\n",
       "        -0.53077   , -0.76318078],\n",
       "       [ 1.16501842,  0.86208633,  0.91600197, ..., -0.68093643,\n",
       "        -0.78263854, -0.58695243]])"
      ]
     },
     "execution_count": 28,
     "metadata": {},
     "output_type": "execute_result"
    }
   ],
   "source": [
    "partial_x_train"
   ]
  },
  {
   "cell_type": "code",
   "execution_count": null,
   "metadata": {},
   "outputs": [],
   "source": []
  },
  {
   "cell_type": "code",
   "execution_count": null,
   "metadata": {},
   "outputs": [],
   "source": []
  },
  {
   "cell_type": "code",
   "execution_count": null,
   "metadata": {},
   "outputs": [],
   "source": []
  },
  {
   "cell_type": "code",
   "execution_count": null,
   "metadata": {},
   "outputs": [],
   "source": []
  },
  {
   "cell_type": "markdown",
   "metadata": {},
   "source": [
    "### load TESTING data "
   ]
  },
  {
   "cell_type": "code",
   "execution_count": 29,
   "metadata": {},
   "outputs": [],
   "source": [
    "#load preprocessed data for TESTING\n",
    "\n",
    "C07_data = np.load('../preprocessed_data/C07_preprocessed_data.npy')\n",
    "C08_data = np.load('../preprocessed_data/C08_preprocessed_data.npy')\n",
    "P02_data = np.load('../preprocessed_data/P02_preprocessed_data.npy')"
   ]
  },
  {
   "cell_type": "code",
   "execution_count": 30,
   "metadata": {},
   "outputs": [
    {
     "name": "stdout",
     "output_type": "stream",
     "text": [
      "(559513, 32)\n",
      "(618312, 32)\n",
      "(524977, 32)\n"
     ]
    }
   ],
   "source": [
    "print(C07_data.shape)\n",
    "print(C08_data.shape)\n",
    "print(P02_data.shape)"
   ]
  },
  {
   "cell_type": "code",
   "execution_count": 31,
   "metadata": {},
   "outputs": [],
   "source": [
    "# normalize them\n",
    "C07_data = C07_data-mean\n",
    "C07_data = C07_data/std"
   ]
  },
  {
   "cell_type": "code",
   "execution_count": 32,
   "metadata": {},
   "outputs": [],
   "source": [
    "C08_data = C08_data-mean\n",
    "C08_data = C08_data/std"
   ]
  },
  {
   "cell_type": "code",
   "execution_count": 33,
   "metadata": {},
   "outputs": [],
   "source": [
    "P02_data = P02_data-mean\n",
    "P02_data = P02_data/std"
   ]
  },
  {
   "cell_type": "code",
   "execution_count": 34,
   "metadata": {},
   "outputs": [
    {
     "name": "stdout",
     "output_type": "stream",
     "text": [
      "(559513, 32)\n",
      "(618312, 32)\n",
      "(524977, 32)\n"
     ]
    }
   ],
   "source": [
    "print(C07_data.shape)\n",
    "print(C08_data.shape)\n",
    "print(P02_data.shape)"
   ]
  },
  {
   "cell_type": "code",
   "execution_count": 35,
   "metadata": {},
   "outputs": [],
   "source": [
    "# save normalized testing data\n",
    "np.save('../testing_inputs/C07_data_norm', C07_data)\n",
    "np.save('../testing_inputs/C08_data_norm', C08_data)\n",
    "np.save('../testing_inputs/P02_data_norm', P02_data)"
   ]
  },
  {
   "cell_type": "code",
   "execution_count": null,
   "metadata": {},
   "outputs": [],
   "source": []
  }
 ],
 "metadata": {
  "kernelspec": {
   "display_name": "tftftf",
   "language": "python",
   "name": "tf"
  },
  "language_info": {
   "codemirror_mode": {
    "name": "ipython",
    "version": 3
   },
   "file_extension": ".py",
   "mimetype": "text/x-python",
   "name": "python",
   "nbconvert_exporter": "python",
   "pygments_lexer": "ipython3",
   "version": "3.6.9"
  }
 },
 "nbformat": 4,
 "nbformat_minor": 2
}
